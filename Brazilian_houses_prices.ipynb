{
 "cells": [
  {
   "cell_type": "code",
   "execution_count": 1,
   "metadata": {},
   "outputs": [],
   "source": [
    "import pandas as pd\n",
    "import numpy as np \n",
    "import seaborn as sns\n",
    "import matplotlib.pyplot as plt"
   ]
  },
  {
   "cell_type": "code",
   "execution_count": 2,
   "metadata": {},
   "outputs": [],
   "source": [
    "dados_bruto = pd.read_csv('C:/Users/Rafael/Desktop/Portfolio/House_Prices_Brazil/houses_to_rent_v2.csv')"
   ]
  },
  {
   "cell_type": "code",
   "execution_count": 3,
   "metadata": {},
   "outputs": [
    {
     "data": {
      "text/html": [
       "<div>\n",
       "<style scoped>\n",
       "    .dataframe tbody tr th:only-of-type {\n",
       "        vertical-align: middle;\n",
       "    }\n",
       "\n",
       "    .dataframe tbody tr th {\n",
       "        vertical-align: top;\n",
       "    }\n",
       "\n",
       "    .dataframe thead th {\n",
       "        text-align: right;\n",
       "    }\n",
       "</style>\n",
       "<table border=\"1\" class=\"dataframe\">\n",
       "  <thead>\n",
       "    <tr style=\"text-align: right;\">\n",
       "      <th></th>\n",
       "      <th>city</th>\n",
       "      <th>area</th>\n",
       "      <th>rooms</th>\n",
       "      <th>bathroom</th>\n",
       "      <th>parking spaces</th>\n",
       "      <th>floor</th>\n",
       "      <th>animal</th>\n",
       "      <th>furniture</th>\n",
       "      <th>hoa (R$)</th>\n",
       "      <th>rent amount (R$)</th>\n",
       "      <th>property tax (R$)</th>\n",
       "      <th>fire insurance (R$)</th>\n",
       "      <th>total (R$)</th>\n",
       "    </tr>\n",
       "  </thead>\n",
       "  <tbody>\n",
       "    <tr>\n",
       "      <th>0</th>\n",
       "      <td>São Paulo</td>\n",
       "      <td>70</td>\n",
       "      <td>2</td>\n",
       "      <td>1</td>\n",
       "      <td>1</td>\n",
       "      <td>7</td>\n",
       "      <td>acept</td>\n",
       "      <td>furnished</td>\n",
       "      <td>2065</td>\n",
       "      <td>3300</td>\n",
       "      <td>211</td>\n",
       "      <td>42</td>\n",
       "      <td>5618</td>\n",
       "    </tr>\n",
       "    <tr>\n",
       "      <th>1</th>\n",
       "      <td>São Paulo</td>\n",
       "      <td>320</td>\n",
       "      <td>4</td>\n",
       "      <td>4</td>\n",
       "      <td>0</td>\n",
       "      <td>20</td>\n",
       "      <td>acept</td>\n",
       "      <td>not furnished</td>\n",
       "      <td>1200</td>\n",
       "      <td>4960</td>\n",
       "      <td>1750</td>\n",
       "      <td>63</td>\n",
       "      <td>7973</td>\n",
       "    </tr>\n",
       "    <tr>\n",
       "      <th>2</th>\n",
       "      <td>Porto Alegre</td>\n",
       "      <td>80</td>\n",
       "      <td>1</td>\n",
       "      <td>1</td>\n",
       "      <td>1</td>\n",
       "      <td>6</td>\n",
       "      <td>acept</td>\n",
       "      <td>not furnished</td>\n",
       "      <td>1000</td>\n",
       "      <td>2800</td>\n",
       "      <td>0</td>\n",
       "      <td>41</td>\n",
       "      <td>3841</td>\n",
       "    </tr>\n",
       "    <tr>\n",
       "      <th>3</th>\n",
       "      <td>Porto Alegre</td>\n",
       "      <td>51</td>\n",
       "      <td>2</td>\n",
       "      <td>1</td>\n",
       "      <td>0</td>\n",
       "      <td>2</td>\n",
       "      <td>acept</td>\n",
       "      <td>not furnished</td>\n",
       "      <td>270</td>\n",
       "      <td>1112</td>\n",
       "      <td>22</td>\n",
       "      <td>17</td>\n",
       "      <td>1421</td>\n",
       "    </tr>\n",
       "    <tr>\n",
       "      <th>4</th>\n",
       "      <td>São Paulo</td>\n",
       "      <td>25</td>\n",
       "      <td>1</td>\n",
       "      <td>1</td>\n",
       "      <td>0</td>\n",
       "      <td>1</td>\n",
       "      <td>not acept</td>\n",
       "      <td>not furnished</td>\n",
       "      <td>0</td>\n",
       "      <td>800</td>\n",
       "      <td>25</td>\n",
       "      <td>11</td>\n",
       "      <td>836</td>\n",
       "    </tr>\n",
       "  </tbody>\n",
       "</table>\n",
       "</div>"
      ],
      "text/plain": [
       "           city  area  rooms  bathroom  parking spaces floor     animal  \\\n",
       "0     São Paulo    70      2         1               1     7      acept   \n",
       "1     São Paulo   320      4         4               0    20      acept   \n",
       "2  Porto Alegre    80      1         1               1     6      acept   \n",
       "3  Porto Alegre    51      2         1               0     2      acept   \n",
       "4     São Paulo    25      1         1               0     1  not acept   \n",
       "\n",
       "       furniture  hoa (R$)  rent amount (R$)  property tax (R$)  \\\n",
       "0      furnished      2065              3300                211   \n",
       "1  not furnished      1200              4960               1750   \n",
       "2  not furnished      1000              2800                  0   \n",
       "3  not furnished       270              1112                 22   \n",
       "4  not furnished         0               800                 25   \n",
       "\n",
       "   fire insurance (R$)  total (R$)  \n",
       "0                   42        5618  \n",
       "1                   63        7973  \n",
       "2                   41        3841  \n",
       "3                   17        1421  \n",
       "4                   11         836  "
      ]
     },
     "execution_count": 3,
     "metadata": {},
     "output_type": "execute_result"
    }
   ],
   "source": [
    "dados_bruto.head()"
   ]
  },
  {
   "cell_type": "code",
   "execution_count": 4,
   "metadata": {},
   "outputs": [
    {
     "data": {
      "text/html": [
       "<div>\n",
       "<style scoped>\n",
       "    .dataframe tbody tr th:only-of-type {\n",
       "        vertical-align: middle;\n",
       "    }\n",
       "\n",
       "    .dataframe tbody tr th {\n",
       "        vertical-align: top;\n",
       "    }\n",
       "\n",
       "    .dataframe thead th {\n",
       "        text-align: right;\n",
       "    }\n",
       "</style>\n",
       "<table border=\"1\" class=\"dataframe\">\n",
       "  <thead>\n",
       "    <tr style=\"text-align: right;\">\n",
       "      <th></th>\n",
       "      <th>cidade</th>\n",
       "      <th>area</th>\n",
       "      <th>quartos</th>\n",
       "      <th>banheiros</th>\n",
       "      <th>estacionamento</th>\n",
       "      <th>andar</th>\n",
       "      <th>animal</th>\n",
       "      <th>mobiliado</th>\n",
       "      <th>hoa</th>\n",
       "      <th>valor_aluguel</th>\n",
       "      <th>imposto</th>\n",
       "      <th>seguro_fogo</th>\n",
       "      <th>total</th>\n",
       "    </tr>\n",
       "  </thead>\n",
       "  <tbody>\n",
       "    <tr>\n",
       "      <th>0</th>\n",
       "      <td>São Paulo</td>\n",
       "      <td>70</td>\n",
       "      <td>2</td>\n",
       "      <td>1</td>\n",
       "      <td>1</td>\n",
       "      <td>7</td>\n",
       "      <td>acept</td>\n",
       "      <td>furnished</td>\n",
       "      <td>2065</td>\n",
       "      <td>3300</td>\n",
       "      <td>211</td>\n",
       "      <td>42</td>\n",
       "      <td>5618</td>\n",
       "    </tr>\n",
       "    <tr>\n",
       "      <th>1</th>\n",
       "      <td>São Paulo</td>\n",
       "      <td>320</td>\n",
       "      <td>4</td>\n",
       "      <td>4</td>\n",
       "      <td>0</td>\n",
       "      <td>20</td>\n",
       "      <td>acept</td>\n",
       "      <td>not furnished</td>\n",
       "      <td>1200</td>\n",
       "      <td>4960</td>\n",
       "      <td>1750</td>\n",
       "      <td>63</td>\n",
       "      <td>7973</td>\n",
       "    </tr>\n",
       "    <tr>\n",
       "      <th>2</th>\n",
       "      <td>Porto Alegre</td>\n",
       "      <td>80</td>\n",
       "      <td>1</td>\n",
       "      <td>1</td>\n",
       "      <td>1</td>\n",
       "      <td>6</td>\n",
       "      <td>acept</td>\n",
       "      <td>not furnished</td>\n",
       "      <td>1000</td>\n",
       "      <td>2800</td>\n",
       "      <td>0</td>\n",
       "      <td>41</td>\n",
       "      <td>3841</td>\n",
       "    </tr>\n",
       "    <tr>\n",
       "      <th>3</th>\n",
       "      <td>Porto Alegre</td>\n",
       "      <td>51</td>\n",
       "      <td>2</td>\n",
       "      <td>1</td>\n",
       "      <td>0</td>\n",
       "      <td>2</td>\n",
       "      <td>acept</td>\n",
       "      <td>not furnished</td>\n",
       "      <td>270</td>\n",
       "      <td>1112</td>\n",
       "      <td>22</td>\n",
       "      <td>17</td>\n",
       "      <td>1421</td>\n",
       "    </tr>\n",
       "    <tr>\n",
       "      <th>4</th>\n",
       "      <td>São Paulo</td>\n",
       "      <td>25</td>\n",
       "      <td>1</td>\n",
       "      <td>1</td>\n",
       "      <td>0</td>\n",
       "      <td>1</td>\n",
       "      <td>not acept</td>\n",
       "      <td>not furnished</td>\n",
       "      <td>0</td>\n",
       "      <td>800</td>\n",
       "      <td>25</td>\n",
       "      <td>11</td>\n",
       "      <td>836</td>\n",
       "    </tr>\n",
       "  </tbody>\n",
       "</table>\n",
       "</div>"
      ],
      "text/plain": [
       "         cidade  area  quartos  banheiros  estacionamento andar     animal  \\\n",
       "0     São Paulo    70        2          1               1     7      acept   \n",
       "1     São Paulo   320        4          4               0    20      acept   \n",
       "2  Porto Alegre    80        1          1               1     6      acept   \n",
       "3  Porto Alegre    51        2          1               0     2      acept   \n",
       "4     São Paulo    25        1          1               0     1  not acept   \n",
       "\n",
       "       mobiliado   hoa  valor_aluguel  imposto  seguro_fogo  total  \n",
       "0      furnished  2065           3300      211           42   5618  \n",
       "1  not furnished  1200           4960     1750           63   7973  \n",
       "2  not furnished  1000           2800        0           41   3841  \n",
       "3  not furnished   270           1112       22           17   1421  \n",
       "4  not furnished     0            800       25           11    836  "
      ]
     },
     "execution_count": 4,
     "metadata": {},
     "output_type": "execute_result"
    }
   ],
   "source": [
    "a_renomear = {\n",
    "    'city' : 'cidade',\n",
    "    'rooms' : 'quartos',\n",
    "    'bathroom' : 'banheiros',\n",
    "    'parking spaces' : 'estacionamento',\n",
    "    'floor' : 'andar',\n",
    "    'furniture': 'mobiliado',\n",
    "    'hoa (R$)' : 'hoa',\n",
    "    'rent amount (R$)' : 'valor_aluguel',\n",
    "    'property tax (R$)' : 'imposto',\n",
    "    'fire insurance (R$)' : 'seguro_fogo',\n",
    "    'total (R$)' : 'total'\n",
    "    \n",
    "    \n",
    "}\n",
    "dados_bruto = dados_bruto.rename(columns = a_renomear)\n",
    "dados_bruto.head()"
   ]
  },
  {
   "cell_type": "code",
   "execution_count": 5,
   "metadata": {},
   "outputs": [],
   "source": [
    "# transformar os dados categoricos em numericos\n",
    "dados_bruto['animal'].replace('acept',1,inplace=True)\n",
    "dados_bruto['animal'].replace('not acept',0,inplace=True)\n",
    "dados_bruto['mobiliado'].replace('furnished', 1 ,inplace=True)\n",
    "dados_bruto['mobiliado'].replace('not furnished', 0 ,inplace=True)"
   ]
  },
  {
   "cell_type": "code",
   "execution_count": 6,
   "metadata": {},
   "outputs": [
    {
     "data": {
      "text/plain": [
       "São Paulo         5887\n",
       "Rio de Janeiro    1501\n",
       "Belo Horizonte    1258\n",
       "Porto Alegre      1193\n",
       "Campinas           853\n",
       "Name: cidade, dtype: int64"
      ]
     },
     "execution_count": 6,
     "metadata": {},
     "output_type": "execute_result"
    }
   ],
   "source": [
    "dados_bruto.cidade.value_counts()"
   ]
  },
  {
   "cell_type": "code",
   "execution_count": 7,
   "metadata": {},
   "outputs": [],
   "source": [
    "# Mudar as cidades para categorias Númericas e utilizalas no modelo \n",
    "dados_bruto['cidade'].replace('São Paulo', 1,inplace = True)\n",
    "dados_bruto['cidade'].replace('Rio de Janeiro', 2,inplace = True)\n",
    "dados_bruto['cidade'].replace('Belo Horizonte', 3,inplace = True)\n",
    "dados_bruto['cidade'].replace('Porto Alegre', 4,inplace = True)\n",
    "dados_bruto['cidade'].replace('Campinas', 5,inplace = True)"
   ]
  },
  {
   "cell_type": "code",
   "execution_count": 8,
   "metadata": {},
   "outputs": [
    {
     "data": {
      "text/html": [
       "<div>\n",
       "<style scoped>\n",
       "    .dataframe tbody tr th:only-of-type {\n",
       "        vertical-align: middle;\n",
       "    }\n",
       "\n",
       "    .dataframe tbody tr th {\n",
       "        vertical-align: top;\n",
       "    }\n",
       "\n",
       "    .dataframe thead th {\n",
       "        text-align: right;\n",
       "    }\n",
       "</style>\n",
       "<table border=\"1\" class=\"dataframe\">\n",
       "  <thead>\n",
       "    <tr style=\"text-align: right;\">\n",
       "      <th></th>\n",
       "      <th>cidade</th>\n",
       "      <th>area</th>\n",
       "      <th>quartos</th>\n",
       "      <th>banheiros</th>\n",
       "      <th>estacionamento</th>\n",
       "      <th>andar</th>\n",
       "      <th>animal</th>\n",
       "      <th>mobiliado</th>\n",
       "      <th>hoa</th>\n",
       "      <th>valor_aluguel</th>\n",
       "      <th>imposto</th>\n",
       "      <th>seguro_fogo</th>\n",
       "      <th>total</th>\n",
       "    </tr>\n",
       "  </thead>\n",
       "  <tbody>\n",
       "    <tr>\n",
       "      <th>0</th>\n",
       "      <td>1</td>\n",
       "      <td>70</td>\n",
       "      <td>2</td>\n",
       "      <td>1</td>\n",
       "      <td>1</td>\n",
       "      <td>7</td>\n",
       "      <td>1</td>\n",
       "      <td>1</td>\n",
       "      <td>2065</td>\n",
       "      <td>3300</td>\n",
       "      <td>211</td>\n",
       "      <td>42</td>\n",
       "      <td>5618</td>\n",
       "    </tr>\n",
       "    <tr>\n",
       "      <th>1</th>\n",
       "      <td>1</td>\n",
       "      <td>320</td>\n",
       "      <td>4</td>\n",
       "      <td>4</td>\n",
       "      <td>0</td>\n",
       "      <td>20</td>\n",
       "      <td>1</td>\n",
       "      <td>0</td>\n",
       "      <td>1200</td>\n",
       "      <td>4960</td>\n",
       "      <td>1750</td>\n",
       "      <td>63</td>\n",
       "      <td>7973</td>\n",
       "    </tr>\n",
       "    <tr>\n",
       "      <th>2</th>\n",
       "      <td>4</td>\n",
       "      <td>80</td>\n",
       "      <td>1</td>\n",
       "      <td>1</td>\n",
       "      <td>1</td>\n",
       "      <td>6</td>\n",
       "      <td>1</td>\n",
       "      <td>0</td>\n",
       "      <td>1000</td>\n",
       "      <td>2800</td>\n",
       "      <td>0</td>\n",
       "      <td>41</td>\n",
       "      <td>3841</td>\n",
       "    </tr>\n",
       "    <tr>\n",
       "      <th>3</th>\n",
       "      <td>4</td>\n",
       "      <td>51</td>\n",
       "      <td>2</td>\n",
       "      <td>1</td>\n",
       "      <td>0</td>\n",
       "      <td>2</td>\n",
       "      <td>1</td>\n",
       "      <td>0</td>\n",
       "      <td>270</td>\n",
       "      <td>1112</td>\n",
       "      <td>22</td>\n",
       "      <td>17</td>\n",
       "      <td>1421</td>\n",
       "    </tr>\n",
       "    <tr>\n",
       "      <th>4</th>\n",
       "      <td>1</td>\n",
       "      <td>25</td>\n",
       "      <td>1</td>\n",
       "      <td>1</td>\n",
       "      <td>0</td>\n",
       "      <td>1</td>\n",
       "      <td>0</td>\n",
       "      <td>0</td>\n",
       "      <td>0</td>\n",
       "      <td>800</td>\n",
       "      <td>25</td>\n",
       "      <td>11</td>\n",
       "      <td>836</td>\n",
       "    </tr>\n",
       "  </tbody>\n",
       "</table>\n",
       "</div>"
      ],
      "text/plain": [
       "   cidade  area  quartos  banheiros  estacionamento andar  animal  mobiliado  \\\n",
       "0       1    70        2          1               1     7       1          1   \n",
       "1       1   320        4          4               0    20       1          0   \n",
       "2       4    80        1          1               1     6       1          0   \n",
       "3       4    51        2          1               0     2       1          0   \n",
       "4       1    25        1          1               0     1       0          0   \n",
       "\n",
       "    hoa  valor_aluguel  imposto  seguro_fogo  total  \n",
       "0  2065           3300      211           42   5618  \n",
       "1  1200           4960     1750           63   7973  \n",
       "2  1000           2800        0           41   3841  \n",
       "3   270           1112       22           17   1421  \n",
       "4     0            800       25           11    836  "
      ]
     },
     "execution_count": 8,
     "metadata": {},
     "output_type": "execute_result"
    }
   ],
   "source": [
    "dados_bruto.head()"
   ]
  },
  {
   "cell_type": "code",
   "execution_count": 9,
   "metadata": {},
   "outputs": [
    {
     "data": {
      "text/plain": [
       "<matplotlib.axes._subplots.AxesSubplot at 0x2a1eeb31670>"
      ]
     },
     "execution_count": 9,
     "metadata": {},
     "output_type": "execute_result"
    },
    {
     "data": {
      "image/png": "[encoded data removed]",
      "text/plain": [
       "<Figure size 432x288 with 1 Axes>"
      ]
     },
     "metadata": {
      "needs_background": "light"
     },
     "output_type": "display_data"
    }
   ],
   "source": [
    "sns.distplot(dados_bruto['total'])"
   ]
  },
  {
   "cell_type": "code",
   "execution_count": 10,
   "metadata": {},
   "outputs": [
    {
     "data": {
      "text/html": [
       "<div>\n",
       "<style scoped>\n",
       "    .dataframe tbody tr th:only-of-type {\n",
       "        vertical-align: middle;\n",
       "    }\n",
       "\n",
       "    .dataframe tbody tr th {\n",
       "        vertical-align: top;\n",
       "    }\n",
       "\n",
       "    .dataframe thead th {\n",
       "        text-align: right;\n",
       "    }\n",
       "</style>\n",
       "<table border=\"1\" class=\"dataframe\">\n",
       "  <thead>\n",
       "    <tr style=\"text-align: right;\">\n",
       "      <th></th>\n",
       "      <th>cidade</th>\n",
       "      <th>area</th>\n",
       "      <th>quartos</th>\n",
       "      <th>banheiros</th>\n",
       "      <th>estacionamento</th>\n",
       "      <th>andar</th>\n",
       "      <th>animal</th>\n",
       "      <th>mobiliado</th>\n",
       "      <th>hoa</th>\n",
       "      <th>valor_aluguel</th>\n",
       "      <th>imposto</th>\n",
       "      <th>seguro_fogo</th>\n",
       "      <th>total</th>\n",
       "    </tr>\n",
       "  </thead>\n",
       "  <tbody>\n",
       "    <tr>\n",
       "      <th>255</th>\n",
       "      <td>3</td>\n",
       "      <td>155</td>\n",
       "      <td>1</td>\n",
       "      <td>4</td>\n",
       "      <td>0</td>\n",
       "      <td>4</td>\n",
       "      <td>0</td>\n",
       "      <td>0</td>\n",
       "      <td>1117000</td>\n",
       "      <td>2790</td>\n",
       "      <td>64</td>\n",
       "      <td>38</td>\n",
       "      <td>1120000</td>\n",
       "    </tr>\n",
       "    <tr>\n",
       "      <th>2182</th>\n",
       "      <td>1</td>\n",
       "      <td>700</td>\n",
       "      <td>4</td>\n",
       "      <td>7</td>\n",
       "      <td>8</td>\n",
       "      <td>-</td>\n",
       "      <td>1</td>\n",
       "      <td>0</td>\n",
       "      <td>0</td>\n",
       "      <td>45000</td>\n",
       "      <td>8750</td>\n",
       "      <td>677</td>\n",
       "      <td>54430</td>\n",
       "    </tr>\n",
       "    <tr>\n",
       "      <th>2859</th>\n",
       "      <td>1</td>\n",
       "      <td>285</td>\n",
       "      <td>4</td>\n",
       "      <td>5</td>\n",
       "      <td>4</td>\n",
       "      <td>6</td>\n",
       "      <td>1</td>\n",
       "      <td>1</td>\n",
       "      <td>200000</td>\n",
       "      <td>20000</td>\n",
       "      <td>1834</td>\n",
       "      <td>254</td>\n",
       "      <td>222100</td>\n",
       "    </tr>\n",
       "    <tr>\n",
       "      <th>2928</th>\n",
       "      <td>2</td>\n",
       "      <td>35</td>\n",
       "      <td>1</td>\n",
       "      <td>1</td>\n",
       "      <td>0</td>\n",
       "      <td>1</td>\n",
       "      <td>1</td>\n",
       "      <td>1</td>\n",
       "      <td>81150</td>\n",
       "      <td>4500</td>\n",
       "      <td>9900</td>\n",
       "      <td>58</td>\n",
       "      <td>95610</td>\n",
       "    </tr>\n",
       "    <tr>\n",
       "      <th>6230</th>\n",
       "      <td>1</td>\n",
       "      <td>340</td>\n",
       "      <td>5</td>\n",
       "      <td>4</td>\n",
       "      <td>2</td>\n",
       "      <td>7</td>\n",
       "      <td>1</td>\n",
       "      <td>0</td>\n",
       "      <td>220000</td>\n",
       "      <td>12000</td>\n",
       "      <td>1000</td>\n",
       "      <td>153</td>\n",
       "      <td>233200</td>\n",
       "    </tr>\n",
       "    <tr>\n",
       "      <th>6645</th>\n",
       "      <td>1</td>\n",
       "      <td>42</td>\n",
       "      <td>1</td>\n",
       "      <td>2</td>\n",
       "      <td>1</td>\n",
       "      <td>6</td>\n",
       "      <td>0</td>\n",
       "      <td>0</td>\n",
       "      <td>690</td>\n",
       "      <td>2500</td>\n",
       "      <td>313700</td>\n",
       "      <td>32</td>\n",
       "      <td>316900</td>\n",
       "    </tr>\n",
       "    <tr>\n",
       "      <th>6979</th>\n",
       "      <td>3</td>\n",
       "      <td>155</td>\n",
       "      <td>1</td>\n",
       "      <td>4</td>\n",
       "      <td>0</td>\n",
       "      <td>4</td>\n",
       "      <td>0</td>\n",
       "      <td>0</td>\n",
       "      <td>1117000</td>\n",
       "      <td>2790</td>\n",
       "      <td>64</td>\n",
       "      <td>38</td>\n",
       "      <td>1120000</td>\n",
       "    </tr>\n",
       "  </tbody>\n",
       "</table>\n",
       "</div>"
      ],
      "text/plain": [
       "      cidade  area  quartos  banheiros  estacionamento andar  animal  \\\n",
       "255        3   155        1          4               0     4       0   \n",
       "2182       1   700        4          7               8     -       1   \n",
       "2859       1   285        4          5               4     6       1   \n",
       "2928       2    35        1          1               0     1       1   \n",
       "6230       1   340        5          4               2     7       1   \n",
       "6645       1    42        1          2               1     6       0   \n",
       "6979       3   155        1          4               0     4       0   \n",
       "\n",
       "      mobiliado      hoa  valor_aluguel  imposto  seguro_fogo    total  \n",
       "255           0  1117000           2790       64           38  1120000  \n",
       "2182          0        0          45000     8750          677    54430  \n",
       "2859          1   200000          20000     1834          254   222100  \n",
       "2928          1    81150           4500     9900           58    95610  \n",
       "6230          0   220000          12000     1000          153   233200  \n",
       "6645          0      690           2500   313700           32   316900  \n",
       "6979          0  1117000           2790       64           38  1120000  "
      ]
     },
     "execution_count": 10,
     "metadata": {},
     "output_type": "execute_result"
    }
   ],
   "source": [
    "dados_bruto.query(\"total > 50000\")"
   ]
  },
  {
   "cell_type": "markdown",
   "metadata": {},
   "source": [
    "### Achamos alguns erros talvez de digitação ou talvez do próprio dataset de qualquer jeito estes valores serão retirados por não fazerem sentido com o dataset"
   ]
  },
  {
   "cell_type": "code",
   "execution_count": 11,
   "metadata": {},
   "outputs": [],
   "source": [
    "dados_bruto.drop([255, 2859,6230,6645,6979,2928,2182], inplace = True)"
   ]
  },
  {
   "cell_type": "code",
   "execution_count": 12,
   "metadata": {},
   "outputs": [
    {
     "data": {
      "text/html": [
       "<div>\n",
       "<style scoped>\n",
       "    .dataframe tbody tr th:only-of-type {\n",
       "        vertical-align: middle;\n",
       "    }\n",
       "\n",
       "    .dataframe tbody tr th {\n",
       "        vertical-align: top;\n",
       "    }\n",
       "\n",
       "    .dataframe thead th {\n",
       "        text-align: right;\n",
       "    }\n",
       "</style>\n",
       "<table border=\"1\" class=\"dataframe\">\n",
       "  <thead>\n",
       "    <tr style=\"text-align: right;\">\n",
       "      <th></th>\n",
       "      <th>cidade</th>\n",
       "      <th>area</th>\n",
       "      <th>quartos</th>\n",
       "      <th>banheiros</th>\n",
       "      <th>estacionamento</th>\n",
       "      <th>andar</th>\n",
       "      <th>animal</th>\n",
       "      <th>mobiliado</th>\n",
       "      <th>hoa</th>\n",
       "      <th>valor_aluguel</th>\n",
       "      <th>imposto</th>\n",
       "      <th>seguro_fogo</th>\n",
       "      <th>total</th>\n",
       "    </tr>\n",
       "  </thead>\n",
       "  <tbody>\n",
       "  </tbody>\n",
       "</table>\n",
       "</div>"
      ],
      "text/plain": [
       "Empty DataFrame\n",
       "Columns: [cidade, area, quartos, banheiros, estacionamento, andar, animal, mobiliado, hoa, valor_aluguel, imposto, seguro_fogo, total]\n",
       "Index: []"
      ]
     },
     "execution_count": 12,
     "metadata": {},
     "output_type": "execute_result"
    }
   ],
   "source": [
    "dados_bruto.query(\"total > 50000\")"
   ]
  },
  {
   "cell_type": "code",
   "execution_count": 13,
   "metadata": {},
   "outputs": [
    {
     "data": {
      "text/plain": [
       "<matplotlib.axes._subplots.AxesSubplot at 0x2a1ef390af0>"
      ]
     },
     "execution_count": 13,
     "metadata": {},
     "output_type": "execute_result"
    },
    {
     "data": {
      "image/png": "[encoded data removed]",
      "text/plain": [
       "<Figure size 432x288 with 1 Axes>"
      ]
     },
     "metadata": {
      "needs_background": "light"
     },
     "output_type": "display_data"
    }
   ],
   "source": [
    "sns.distplot(dados_bruto.total)"
   ]
  },
  {
   "cell_type": "code",
   "execution_count": 14,
   "metadata": {},
   "outputs": [
    {
     "data": {
      "text/plain": [
       "<matplotlib.axes._subplots.AxesSubplot at 0x2a1ef480550>"
      ]
     },
     "execution_count": 14,
     "metadata": {},
     "output_type": "execute_result"
    },
    {
     "data": {
      "image/png": "[encoded data removed]",
      "text/plain": [
       "<Figure size 432x288 with 1 Axes>"
      ]
     },
     "metadata": {
      "needs_background": "light"
     },
     "output_type": "display_data"
    }
   ],
   "source": [
    "sns.boxplot(dados_bruto.total)"
   ]
  },
  {
   "cell_type": "code",
   "execution_count": 15,
   "metadata": {},
   "outputs": [
    {
     "data": {
      "text/plain": [
       "<matplotlib.axes._subplots.AxesSubplot at 0x2a1ef4d5b80>"
      ]
     },
     "execution_count": 15,
     "metadata": {},
     "output_type": "execute_result"
    },
    {
     "data": {
      "image/png": "[encoded data removed]",
      "text/plain": [
       "<Figure size 432x288 with 1 Axes>"
      ]
     },
     "metadata": {
      "needs_background": "light"
     },
     "output_type": "display_data"
    }
   ],
   "source": [
    "sns.boxplot(dados_bruto.area)"
   ]
  },
  {
   "cell_type": "code",
   "execution_count": 16,
   "metadata": {},
   "outputs": [
    {
     "data": {
      "text/html": [
       "<div>\n",
       "<style scoped>\n",
       "    .dataframe tbody tr th:only-of-type {\n",
       "        vertical-align: middle;\n",
       "    }\n",
       "\n",
       "    .dataframe tbody tr th {\n",
       "        vertical-align: top;\n",
       "    }\n",
       "\n",
       "    .dataframe thead th {\n",
       "        text-align: right;\n",
       "    }\n",
       "</style>\n",
       "<table border=\"1\" class=\"dataframe\">\n",
       "  <thead>\n",
       "    <tr style=\"text-align: right;\">\n",
       "      <th></th>\n",
       "      <th>cidade</th>\n",
       "      <th>area</th>\n",
       "      <th>quartos</th>\n",
       "      <th>banheiros</th>\n",
       "      <th>estacionamento</th>\n",
       "      <th>andar</th>\n",
       "      <th>animal</th>\n",
       "      <th>mobiliado</th>\n",
       "      <th>hoa</th>\n",
       "      <th>valor_aluguel</th>\n",
       "      <th>imposto</th>\n",
       "      <th>seguro_fogo</th>\n",
       "      <th>total</th>\n",
       "    </tr>\n",
       "  </thead>\n",
       "  <tbody>\n",
       "    <tr>\n",
       "      <th>2397</th>\n",
       "      <td>3</td>\n",
       "      <td>46335</td>\n",
       "      <td>4</td>\n",
       "      <td>8</td>\n",
       "      <td>5</td>\n",
       "      <td>11</td>\n",
       "      <td>1</td>\n",
       "      <td>1</td>\n",
       "      <td>960</td>\n",
       "      <td>8500</td>\n",
       "      <td>646</td>\n",
       "      <td>114</td>\n",
       "      <td>10220</td>\n",
       "    </tr>\n",
       "    <tr>\n",
       "      <th>5915</th>\n",
       "      <td>1</td>\n",
       "      <td>24606</td>\n",
       "      <td>5</td>\n",
       "      <td>4</td>\n",
       "      <td>4</td>\n",
       "      <td>12</td>\n",
       "      <td>1</td>\n",
       "      <td>0</td>\n",
       "      <td>2254</td>\n",
       "      <td>8100</td>\n",
       "      <td>7859</td>\n",
       "      <td>103</td>\n",
       "      <td>18320</td>\n",
       "    </tr>\n",
       "  </tbody>\n",
       "</table>\n",
       "</div>"
      ],
      "text/plain": [
       "      cidade   area  quartos  banheiros  estacionamento andar  animal  \\\n",
       "2397       3  46335        4          8               5    11       1   \n",
       "5915       1  24606        5          4               4    12       1   \n",
       "\n",
       "      mobiliado   hoa  valor_aluguel  imposto  seguro_fogo  total  \n",
       "2397          1   960           8500      646          114  10220  \n",
       "5915          0  2254           8100     7859          103  18320  "
      ]
     },
     "execution_count": 16,
     "metadata": {},
     "output_type": "execute_result"
    }
   ],
   "source": [
    "dados_bruto.query('area > 20000')"
   ]
  },
  {
   "cell_type": "code",
   "execution_count": 17,
   "metadata": {},
   "outputs": [],
   "source": [
    "dados_bruto.drop([2397,5915,9241], inplace = True)"
   ]
  },
  {
   "cell_type": "code",
   "execution_count": 18,
   "metadata": {},
   "outputs": [
    {
     "data": {
      "text/html": [
       "<div>\n",
       "<style scoped>\n",
       "    .dataframe tbody tr th:only-of-type {\n",
       "        vertical-align: middle;\n",
       "    }\n",
       "\n",
       "    .dataframe tbody tr th {\n",
       "        vertical-align: top;\n",
       "    }\n",
       "\n",
       "    .dataframe thead th {\n",
       "        text-align: right;\n",
       "    }\n",
       "</style>\n",
       "<table border=\"1\" class=\"dataframe\">\n",
       "  <thead>\n",
       "    <tr style=\"text-align: right;\">\n",
       "      <th></th>\n",
       "      <th>cidade</th>\n",
       "      <th>area</th>\n",
       "      <th>quartos</th>\n",
       "      <th>banheiros</th>\n",
       "      <th>estacionamento</th>\n",
       "      <th>andar</th>\n",
       "      <th>animal</th>\n",
       "      <th>mobiliado</th>\n",
       "      <th>hoa</th>\n",
       "      <th>valor_aluguel</th>\n",
       "      <th>imposto</th>\n",
       "      <th>seguro_fogo</th>\n",
       "      <th>total</th>\n",
       "    </tr>\n",
       "  </thead>\n",
       "  <tbody>\n",
       "  </tbody>\n",
       "</table>\n",
       "</div>"
      ],
      "text/plain": [
       "Empty DataFrame\n",
       "Columns: [cidade, area, quartos, banheiros, estacionamento, andar, animal, mobiliado, hoa, valor_aluguel, imposto, seguro_fogo, total]\n",
       "Index: []"
      ]
     },
     "execution_count": 18,
     "metadata": {},
     "output_type": "execute_result"
    }
   ],
   "source": [
    "dados_bruto.query('area > 10000')"
   ]
  },
  {
   "cell_type": "code",
   "execution_count": 19,
   "metadata": {},
   "outputs": [
    {
     "data": {
      "text/plain": [
       "<matplotlib.axes._subplots.AxesSubplot at 0x2a1ef532a30>"
      ]
     },
     "execution_count": 19,
     "metadata": {},
     "output_type": "execute_result"
    },
    {
     "data": {
      "image/png": "[encoded data removed]",
      "text/plain": [
       "<Figure size 432x288 with 1 Axes>"
      ]
     },
     "metadata": {
      "needs_background": "light"
     },
     "output_type": "display_data"
    }
   ],
   "source": [
    "sns.boxplot(dados_bruto.area)"
   ]
  },
  {
   "cell_type": "code",
   "execution_count": 20,
   "metadata": {},
   "outputs": [
    {
     "data": {
      "text/plain": [
       "<matplotlib.axes._subplots.AxesSubplot at 0x2a1ef581d30>"
      ]
     },
     "execution_count": 20,
     "metadata": {},
     "output_type": "execute_result"
    },
    {
     "data": {
      "image/png": "[encoded data removed]",
      "text/plain": [
       "<Figure size 432x288 with 1 Axes>"
      ]
     },
     "metadata": {
      "needs_background": "light"
     },
     "output_type": "display_data"
    }
   ],
   "source": [
    "sns.scatterplot(x = 'total', y = 'area', data= dados_bruto)"
   ]
  },
  {
   "cell_type": "code",
   "execution_count": 21,
   "metadata": {},
   "outputs": [
    {
     "data": {
      "text/html": [
       "<div>\n",
       "<style scoped>\n",
       "    .dataframe tbody tr th:only-of-type {\n",
       "        vertical-align: middle;\n",
       "    }\n",
       "\n",
       "    .dataframe tbody tr th {\n",
       "        vertical-align: top;\n",
       "    }\n",
       "\n",
       "    .dataframe thead th {\n",
       "        text-align: right;\n",
       "    }\n",
       "</style>\n",
       "<table border=\"1\" class=\"dataframe\">\n",
       "  <thead>\n",
       "    <tr style=\"text-align: right;\">\n",
       "      <th></th>\n",
       "      <th>cidade</th>\n",
       "      <th>area</th>\n",
       "      <th>quartos</th>\n",
       "      <th>banheiros</th>\n",
       "      <th>estacionamento</th>\n",
       "      <th>animal</th>\n",
       "      <th>mobiliado</th>\n",
       "      <th>hoa</th>\n",
       "      <th>valor_aluguel</th>\n",
       "      <th>imposto</th>\n",
       "      <th>seguro_fogo</th>\n",
       "      <th>total</th>\n",
       "    </tr>\n",
       "  </thead>\n",
       "  <tbody>\n",
       "    <tr>\n",
       "      <th>count</th>\n",
       "      <td>10682.000000</td>\n",
       "      <td>10682.000000</td>\n",
       "      <td>10682.000000</td>\n",
       "      <td>10682.000000</td>\n",
       "      <td>10682.000000</td>\n",
       "      <td>10682.000000</td>\n",
       "      <td>10682.000000</td>\n",
       "      <td>10682.000000</td>\n",
       "      <td>10682.000000</td>\n",
       "      <td>10682.000000</td>\n",
       "      <td>10682.000000</td>\n",
       "      <td>10682.000000</td>\n",
       "    </tr>\n",
       "    <tr>\n",
       "      <th>mean</th>\n",
       "      <td>2.029489</td>\n",
       "      <td>141.364258</td>\n",
       "      <td>2.505711</td>\n",
       "      <td>2.235068</td>\n",
       "      <td>1.608407</td>\n",
       "      <td>0.777851</td>\n",
       "      <td>0.243681</td>\n",
       "      <td>918.637521</td>\n",
       "      <td>3889.804812</td>\n",
       "      <td>334.852088</td>\n",
       "      <td>53.211477</td>\n",
       "      <td>5196.694439</td>\n",
       "    </tr>\n",
       "    <tr>\n",
       "      <th>std</th>\n",
       "      <td>1.353518</td>\n",
       "      <td>134.255040</td>\n",
       "      <td>1.170677</td>\n",
       "      <td>1.405273</td>\n",
       "      <td>1.588065</td>\n",
       "      <td>0.415711</td>\n",
       "      <td>0.429322</td>\n",
       "      <td>1167.068076</td>\n",
       "      <td>3381.690758</td>\n",
       "      <td>673.960051</td>\n",
       "      <td>47.350070</td>\n",
       "      <td>4471.857327</td>\n",
       "    </tr>\n",
       "    <tr>\n",
       "      <th>min</th>\n",
       "      <td>1.000000</td>\n",
       "      <td>11.000000</td>\n",
       "      <td>1.000000</td>\n",
       "      <td>1.000000</td>\n",
       "      <td>0.000000</td>\n",
       "      <td>0.000000</td>\n",
       "      <td>0.000000</td>\n",
       "      <td>0.000000</td>\n",
       "      <td>450.000000</td>\n",
       "      <td>0.000000</td>\n",
       "      <td>3.000000</td>\n",
       "      <td>499.000000</td>\n",
       "    </tr>\n",
       "    <tr>\n",
       "      <th>25%</th>\n",
       "      <td>1.000000</td>\n",
       "      <td>56.000000</td>\n",
       "      <td>2.000000</td>\n",
       "      <td>1.000000</td>\n",
       "      <td>0.000000</td>\n",
       "      <td>1.000000</td>\n",
       "      <td>0.000000</td>\n",
       "      <td>170.000000</td>\n",
       "      <td>1529.250000</td>\n",
       "      <td>38.000000</td>\n",
       "      <td>21.000000</td>\n",
       "      <td>2060.250000</td>\n",
       "    </tr>\n",
       "    <tr>\n",
       "      <th>50%</th>\n",
       "      <td>1.000000</td>\n",
       "      <td>90.000000</td>\n",
       "      <td>2.000000</td>\n",
       "      <td>2.000000</td>\n",
       "      <td>1.000000</td>\n",
       "      <td>1.000000</td>\n",
       "      <td>0.000000</td>\n",
       "      <td>559.000000</td>\n",
       "      <td>2650.000000</td>\n",
       "      <td>125.000000</td>\n",
       "      <td>36.000000</td>\n",
       "      <td>3577.500000</td>\n",
       "    </tr>\n",
       "    <tr>\n",
       "      <th>75%</th>\n",
       "      <td>3.000000</td>\n",
       "      <td>182.000000</td>\n",
       "      <td>3.000000</td>\n",
       "      <td>3.000000</td>\n",
       "      <td>2.000000</td>\n",
       "      <td>1.000000</td>\n",
       "      <td>0.000000</td>\n",
       "      <td>1234.500000</td>\n",
       "      <td>5000.000000</td>\n",
       "      <td>375.000000</td>\n",
       "      <td>68.000000</td>\n",
       "      <td>6757.000000</td>\n",
       "    </tr>\n",
       "    <tr>\n",
       "      <th>max</th>\n",
       "      <td>5.000000</td>\n",
       "      <td>2000.000000</td>\n",
       "      <td>13.000000</td>\n",
       "      <td>10.000000</td>\n",
       "      <td>12.000000</td>\n",
       "      <td>1.000000</td>\n",
       "      <td>1.000000</td>\n",
       "      <td>32000.000000</td>\n",
       "      <td>30000.000000</td>\n",
       "      <td>28120.000000</td>\n",
       "      <td>451.000000</td>\n",
       "      <td>32750.000000</td>\n",
       "    </tr>\n",
       "  </tbody>\n",
       "</table>\n",
       "</div>"
      ],
      "text/plain": [
       "             cidade          area       quartos     banheiros  estacionamento  \\\n",
       "count  10682.000000  10682.000000  10682.000000  10682.000000    10682.000000   \n",
       "mean       2.029489    141.364258      2.505711      2.235068        1.608407   \n",
       "std        1.353518    134.255040      1.170677      1.405273        1.588065   \n",
       "min        1.000000     11.000000      1.000000      1.000000        0.000000   \n",
       "25%        1.000000     56.000000      2.000000      1.000000        0.000000   \n",
       "50%        1.000000     90.000000      2.000000      2.000000        1.000000   \n",
       "75%        3.000000    182.000000      3.000000      3.000000        2.000000   \n",
       "max        5.000000   2000.000000     13.000000     10.000000       12.000000   \n",
       "\n",
       "             animal     mobiliado           hoa  valor_aluguel       imposto  \\\n",
       "count  10682.000000  10682.000000  10682.000000   10682.000000  10682.000000   \n",
       "mean       0.777851      0.243681    918.637521    3889.804812    334.852088   \n",
       "std        0.415711      0.429322   1167.068076    3381.690758    673.960051   \n",
       "min        0.000000      0.000000      0.000000     450.000000      0.000000   \n",
       "25%        1.000000      0.000000    170.000000    1529.250000     38.000000   \n",
       "50%        1.000000      0.000000    559.000000    2650.000000    125.000000   \n",
       "75%        1.000000      0.000000   1234.500000    5000.000000    375.000000   \n",
       "max        1.000000      1.000000  32000.000000   30000.000000  28120.000000   \n",
       "\n",
       "        seguro_fogo         total  \n",
       "count  10682.000000  10682.000000  \n",
       "mean      53.211477   5196.694439  \n",
       "std       47.350070   4471.857327  \n",
       "min        3.000000    499.000000  \n",
       "25%       21.000000   2060.250000  \n",
       "50%       36.000000   3577.500000  \n",
       "75%       68.000000   6757.000000  \n",
       "max      451.000000  32750.000000  "
      ]
     },
     "execution_count": 21,
     "metadata": {},
     "output_type": "execute_result"
    }
   ],
   "source": [
    "dados_bruto.describe()"
   ]
  },
  {
   "cell_type": "code",
   "execution_count": 22,
   "metadata": {},
   "outputs": [
    {
     "data": {
      "text/plain": [
       "<matplotlib.axes._subplots.AxesSubplot at 0x2a1ef6010d0>"
      ]
     },
     "execution_count": 22,
     "metadata": {},
     "output_type": "execute_result"
    },
    {
     "data": {
      "image/png": "[encoded data removed]",
      "text/plain": [
       "<Figure size 432x288 with 1 Axes>"
      ]
     },
     "metadata": {
      "needs_background": "light"
     },
     "output_type": "display_data"
    }
   ],
   "source": [
    "sns.boxplot(dados_bruto.quartos)"
   ]
  },
  {
   "cell_type": "code",
   "execution_count": 23,
   "metadata": {},
   "outputs": [
    {
     "data": {
      "text/plain": [
       "1"
      ]
     },
     "execution_count": 23,
     "metadata": {},
     "output_type": "execute_result"
    }
   ],
   "source": [
    "dados_bruto.quartos.min()"
   ]
  },
  {
   "cell_type": "code",
   "execution_count": 24,
   "metadata": {},
   "outputs": [
    {
     "data": {
      "text/plain": [
       "<matplotlib.axes._subplots.AxesSubplot at 0x2a1ef480880>"
      ]
     },
     "execution_count": 24,
     "metadata": {},
     "output_type": "execute_result"
    },
    {
     "data": {
      "image/png": "[encoded data removed]",
      "text/plain": [
       "<Figure size 432x288 with 1 Axes>"
      ]
     },
     "metadata": {
      "needs_background": "light"
     },
     "output_type": "display_data"
    }
   ],
   "source": [
    "sns.boxplot(dados_bruto.banheiros)"
   ]
  },
  {
   "cell_type": "code",
   "execution_count": 25,
   "metadata": {},
   "outputs": [
    {
     "data": {
      "text/plain": [
       "<matplotlib.axes._subplots.AxesSubplot at 0x2a1ef6b7040>"
      ]
     },
     "execution_count": 25,
     "metadata": {},
     "output_type": "execute_result"
    },
    {
     "data": {
      "image/png": "[encoded data removed]",
      "text/plain": [
       "<Figure size 432x288 with 1 Axes>"
      ]
     },
     "metadata": {
      "needs_background": "light"
     },
     "output_type": "display_data"
    }
   ],
   "source": [
    "sns.boxplot(dados_bruto.estacionamento)"
   ]
  },
  {
   "cell_type": "code",
   "execution_count": 26,
   "metadata": {},
   "outputs": [
    {
     "data": {
      "text/plain": [
       "-      2460\n",
       "1      1080\n",
       "2       985\n",
       "3       930\n",
       "4       746\n",
       "5       600\n",
       "6       537\n",
       "7       496\n",
       "8       490\n",
       "9       369\n",
       "10      357\n",
       "11      302\n",
       "12      256\n",
       "13      200\n",
       "14      170\n",
       "15      147\n",
       "16      109\n",
       "17       96\n",
       "18       75\n",
       "19       53\n",
       "20       44\n",
       "21       42\n",
       "23       25\n",
       "25       25\n",
       "22       24\n",
       "26       20\n",
       "24       19\n",
       "27        8\n",
       "28        6\n",
       "29        5\n",
       "32        2\n",
       "51        1\n",
       "301       1\n",
       "35        1\n",
       "46        1\n",
       "Name: andar, dtype: int64"
      ]
     },
     "execution_count": 26,
     "metadata": {},
     "output_type": "execute_result"
    }
   ],
   "source": [
    "dados_bruto.andar.value_counts()"
   ]
  },
  {
   "cell_type": "code",
   "execution_count": 27,
   "metadata": {},
   "outputs": [
    {
     "data": {
      "text/plain": [
       "0      2460\n",
       "1      1080\n",
       "2       985\n",
       "3       930\n",
       "4       746\n",
       "5       600\n",
       "6       537\n",
       "7       496\n",
       "8       490\n",
       "9       369\n",
       "10      357\n",
       "11      302\n",
       "12      256\n",
       "13      200\n",
       "14      170\n",
       "15      147\n",
       "16      109\n",
       "17       96\n",
       "18       75\n",
       "19       53\n",
       "20       44\n",
       "21       42\n",
       "25       25\n",
       "23       25\n",
       "22       24\n",
       "26       20\n",
       "24       19\n",
       "27        8\n",
       "28        6\n",
       "29        5\n",
       "32        2\n",
       "51        1\n",
       "301       1\n",
       "46        1\n",
       "35        1\n",
       "Name: andar, dtype: int64"
      ]
     },
     "execution_count": 27,
     "metadata": {},
     "output_type": "execute_result"
    }
   ],
   "source": [
    "dados_bruto.andar.replace('-', 0, inplace=True)\n",
    "dados_bruto.andar = pd.to_numeric(dados_bruto.andar)\n",
    "dados_bruto.andar.value_counts()"
   ]
  },
  {
   "cell_type": "code",
   "execution_count": 28,
   "metadata": {},
   "outputs": [
    {
     "data": {
      "text/html": [
       "<div>\n",
       "<style scoped>\n",
       "    .dataframe tbody tr th:only-of-type {\n",
       "        vertical-align: middle;\n",
       "    }\n",
       "\n",
       "    .dataframe tbody tr th {\n",
       "        vertical-align: top;\n",
       "    }\n",
       "\n",
       "    .dataframe thead th {\n",
       "        text-align: right;\n",
       "    }\n",
       "</style>\n",
       "<table border=\"1\" class=\"dataframe\">\n",
       "  <thead>\n",
       "    <tr style=\"text-align: right;\">\n",
       "      <th></th>\n",
       "      <th>cidade</th>\n",
       "      <th>area</th>\n",
       "      <th>quartos</th>\n",
       "      <th>banheiros</th>\n",
       "      <th>estacionamento</th>\n",
       "      <th>andar</th>\n",
       "      <th>animal</th>\n",
       "      <th>mobiliado</th>\n",
       "      <th>hoa</th>\n",
       "      <th>valor_aluguel</th>\n",
       "      <th>imposto</th>\n",
       "      <th>seguro_fogo</th>\n",
       "      <th>total</th>\n",
       "    </tr>\n",
       "  </thead>\n",
       "  <tbody>\n",
       "    <tr>\n",
       "      <th>671</th>\n",
       "      <td>1</td>\n",
       "      <td>250</td>\n",
       "      <td>3</td>\n",
       "      <td>2</td>\n",
       "      <td>3</td>\n",
       "      <td>35</td>\n",
       "      <td>1</td>\n",
       "      <td>1</td>\n",
       "      <td>2500</td>\n",
       "      <td>15000</td>\n",
       "      <td>1084</td>\n",
       "      <td>191</td>\n",
       "      <td>18780</td>\n",
       "    </tr>\n",
       "    <tr>\n",
       "      <th>1654</th>\n",
       "      <td>1</td>\n",
       "      <td>353</td>\n",
       "      <td>4</td>\n",
       "      <td>5</td>\n",
       "      <td>5</td>\n",
       "      <td>46</td>\n",
       "      <td>1</td>\n",
       "      <td>0</td>\n",
       "      <td>3000</td>\n",
       "      <td>10000</td>\n",
       "      <td>0</td>\n",
       "      <td>127</td>\n",
       "      <td>13130</td>\n",
       "    </tr>\n",
       "    <tr>\n",
       "      <th>2562</th>\n",
       "      <td>3</td>\n",
       "      <td>80</td>\n",
       "      <td>3</td>\n",
       "      <td>2</td>\n",
       "      <td>2</td>\n",
       "      <td>301</td>\n",
       "      <td>1</td>\n",
       "      <td>0</td>\n",
       "      <td>750</td>\n",
       "      <td>2600</td>\n",
       "      <td>164</td>\n",
       "      <td>35</td>\n",
       "      <td>3549</td>\n",
       "    </tr>\n",
       "    <tr>\n",
       "      <th>5694</th>\n",
       "      <td>5</td>\n",
       "      <td>64</td>\n",
       "      <td>2</td>\n",
       "      <td>2</td>\n",
       "      <td>2</td>\n",
       "      <td>51</td>\n",
       "      <td>1</td>\n",
       "      <td>0</td>\n",
       "      <td>800</td>\n",
       "      <td>1900</td>\n",
       "      <td>129</td>\n",
       "      <td>25</td>\n",
       "      <td>2854</td>\n",
       "    </tr>\n",
       "    <tr>\n",
       "      <th>6096</th>\n",
       "      <td>1</td>\n",
       "      <td>84</td>\n",
       "      <td>2</td>\n",
       "      <td>3</td>\n",
       "      <td>2</td>\n",
       "      <td>32</td>\n",
       "      <td>0</td>\n",
       "      <td>1</td>\n",
       "      <td>850</td>\n",
       "      <td>8500</td>\n",
       "      <td>450</td>\n",
       "      <td>108</td>\n",
       "      <td>9908</td>\n",
       "    </tr>\n",
       "    <tr>\n",
       "      <th>10179</th>\n",
       "      <td>1</td>\n",
       "      <td>51</td>\n",
       "      <td>1</td>\n",
       "      <td>1</td>\n",
       "      <td>0</td>\n",
       "      <td>32</td>\n",
       "      <td>0</td>\n",
       "      <td>0</td>\n",
       "      <td>429</td>\n",
       "      <td>3250</td>\n",
       "      <td>37</td>\n",
       "      <td>42</td>\n",
       "      <td>3758</td>\n",
       "    </tr>\n",
       "  </tbody>\n",
       "</table>\n",
       "</div>"
      ],
      "text/plain": [
       "       cidade  area  quartos  banheiros  estacionamento  andar  animal  \\\n",
       "671         1   250        3          2               3     35       1   \n",
       "1654        1   353        4          5               5     46       1   \n",
       "2562        3    80        3          2               2    301       1   \n",
       "5694        5    64        2          2               2     51       1   \n",
       "6096        1    84        2          3               2     32       0   \n",
       "10179       1    51        1          1               0     32       0   \n",
       "\n",
       "       mobiliado   hoa  valor_aluguel  imposto  seguro_fogo  total  \n",
       "671            1  2500          15000     1084          191  18780  \n",
       "1654           0  3000          10000        0          127  13130  \n",
       "2562           0   750           2600      164           35   3549  \n",
       "5694           0   800           1900      129           25   2854  \n",
       "6096           1   850           8500      450          108   9908  \n",
       "10179          0   429           3250       37           42   3758  "
      ]
     },
     "execution_count": 28,
     "metadata": {},
     "output_type": "execute_result"
    }
   ],
   "source": [
    "dados_bruto.query('andar > 30').head(20)"
   ]
  },
  {
   "cell_type": "markdown",
   "metadata": {},
   "source": [
    "### Foi encontrado 2 variaveis sem sentido em Andar um prédio de mais de 300 andares o que é impossivel e em campinas um prédio de 51 que também é impossivel já que em campinas apenas existem prédios menores"
   ]
  },
  {
   "cell_type": "code",
   "execution_count": 29,
   "metadata": {},
   "outputs": [],
   "source": [
    "dados_bruto.drop([2562,5694], inplace = True)"
   ]
  },
  {
   "cell_type": "code",
   "execution_count": 30,
   "metadata": {},
   "outputs": [
    {
     "data": {
      "text/plain": [
       "<matplotlib.axes._subplots.AxesSubplot at 0x2a1ef70ea00>"
      ]
     },
     "execution_count": 30,
     "metadata": {},
     "output_type": "execute_result"
    },
    {
     "data": {
      "image/png": "[encoded data removed]",
      "text/plain": [
       "<Figure size 432x288 with 1 Axes>"
      ]
     },
     "metadata": {
      "needs_background": "light"
     },
     "output_type": "display_data"
    }
   ],
   "source": [
    "sns.distplot(dados_bruto.andar)"
   ]
  },
  {
   "cell_type": "markdown",
   "metadata": {},
   "source": [
    "# Coeficiente Quadratico"
   ]
  },
  {
   "cell_type": "code",
   "execution_count": 31,
   "metadata": {},
   "outputs": [],
   "source": [
    "def erro_quadrado_medio(previsto, y):\n",
    "    return np.array([(y_test - predicts)**2 for y_test, predicts in zip(y,previsto)]).mean()"
   ]
  },
  {
   "cell_type": "markdown",
   "metadata": {},
   "source": [
    "# Utilizando Log para os dados fiarem em uma mesma escala e mais lineares"
   ]
  },
  {
   "cell_type": "code",
   "execution_count": 32,
   "metadata": {},
   "outputs": [],
   "source": [
    "dados_log = pd.DataFrame()\n",
    "\n",
    "dados_log['area'] = np.log(dados_bruto['area'])\n",
    "dados_log['quartos'] = np.log(dados_bruto['quartos'])\n",
    "dados_log['banheiros'] = np.log(dados_bruto['banheiros'] + 1)\n",
    "dados_log['estacionamento'] = np.log(dados_bruto['estacionamento']+1)\n",
    "dados_log['andar'] = np.log(dados_bruto['andar'] +1)\n",
    "dados_log['cidade'] = np.log(dados_bruto['cidade'])\n",
    "dados_log['animal'] = np.log(dados_bruto['animal'] +1)\n",
    "dados_log['mobiliado'] = np.log(dados_bruto['mobiliado'] +1)\n",
    "\n",
    "dados_log['total'] = np.log(dados_bruto['total'])"
   ]
  },
  {
   "cell_type": "code",
   "execution_count": 33,
   "metadata": {},
   "outputs": [
    {
     "data": {
      "text/html": [
       "<div>\n",
       "<style scoped>\n",
       "    .dataframe tbody tr th:only-of-type {\n",
       "        vertical-align: middle;\n",
       "    }\n",
       "\n",
       "    .dataframe tbody tr th {\n",
       "        vertical-align: top;\n",
       "    }\n",
       "\n",
       "    .dataframe thead th {\n",
       "        text-align: right;\n",
       "    }\n",
       "</style>\n",
       "<table border=\"1\" class=\"dataframe\">\n",
       "  <thead>\n",
       "    <tr style=\"text-align: right;\">\n",
       "      <th></th>\n",
       "      <th>area</th>\n",
       "      <th>quartos</th>\n",
       "      <th>banheiros</th>\n",
       "      <th>estacionamento</th>\n",
       "      <th>andar</th>\n",
       "      <th>cidade</th>\n",
       "      <th>animal</th>\n",
       "      <th>mobiliado</th>\n",
       "      <th>total</th>\n",
       "    </tr>\n",
       "  </thead>\n",
       "  <tbody>\n",
       "    <tr>\n",
       "      <th>0</th>\n",
       "      <td>4.248495</td>\n",
       "      <td>0.693147</td>\n",
       "      <td>0.693147</td>\n",
       "      <td>0.693147</td>\n",
       "      <td>2.079442</td>\n",
       "      <td>0.000000</td>\n",
       "      <td>0.693147</td>\n",
       "      <td>0.693147</td>\n",
       "      <td>8.633731</td>\n",
       "    </tr>\n",
       "    <tr>\n",
       "      <th>1</th>\n",
       "      <td>5.768321</td>\n",
       "      <td>1.386294</td>\n",
       "      <td>1.609438</td>\n",
       "      <td>0.000000</td>\n",
       "      <td>3.044522</td>\n",
       "      <td>0.000000</td>\n",
       "      <td>0.693147</td>\n",
       "      <td>0.000000</td>\n",
       "      <td>8.983816</td>\n",
       "    </tr>\n",
       "    <tr>\n",
       "      <th>2</th>\n",
       "      <td>4.382027</td>\n",
       "      <td>0.000000</td>\n",
       "      <td>0.693147</td>\n",
       "      <td>0.693147</td>\n",
       "      <td>1.945910</td>\n",
       "      <td>1.386294</td>\n",
       "      <td>0.693147</td>\n",
       "      <td>0.000000</td>\n",
       "      <td>8.253488</td>\n",
       "    </tr>\n",
       "    <tr>\n",
       "      <th>3</th>\n",
       "      <td>3.931826</td>\n",
       "      <td>0.693147</td>\n",
       "      <td>0.693147</td>\n",
       "      <td>0.000000</td>\n",
       "      <td>1.098612</td>\n",
       "      <td>1.386294</td>\n",
       "      <td>0.693147</td>\n",
       "      <td>0.000000</td>\n",
       "      <td>7.259116</td>\n",
       "    </tr>\n",
       "    <tr>\n",
       "      <th>4</th>\n",
       "      <td>3.218876</td>\n",
       "      <td>0.000000</td>\n",
       "      <td>0.693147</td>\n",
       "      <td>0.000000</td>\n",
       "      <td>0.693147</td>\n",
       "      <td>0.000000</td>\n",
       "      <td>0.000000</td>\n",
       "      <td>0.000000</td>\n",
       "      <td>6.728629</td>\n",
       "    </tr>\n",
       "  </tbody>\n",
       "</table>\n",
       "</div>"
      ],
      "text/plain": [
       "       area   quartos  banheiros  estacionamento     andar    cidade  \\\n",
       "0  4.248495  0.693147   0.693147        0.693147  2.079442  0.000000   \n",
       "1  5.768321  1.386294   1.609438        0.000000  3.044522  0.000000   \n",
       "2  4.382027  0.000000   0.693147        0.693147  1.945910  1.386294   \n",
       "3  3.931826  0.693147   0.693147        0.000000  1.098612  1.386294   \n",
       "4  3.218876  0.000000   0.693147        0.000000  0.693147  0.000000   \n",
       "\n",
       "     animal  mobiliado     total  \n",
       "0  0.693147   0.693147  8.633731  \n",
       "1  0.693147   0.000000  8.983816  \n",
       "2  0.693147   0.000000  8.253488  \n",
       "3  0.693147   0.000000  7.259116  \n",
       "4  0.000000   0.000000  6.728629  "
      ]
     },
     "execution_count": 33,
     "metadata": {},
     "output_type": "execute_result"
    }
   ],
   "source": [
    "dados_log.head()"
   ]
  },
  {
   "cell_type": "code",
   "execution_count": 34,
   "metadata": {},
   "outputs": [
    {
     "data": {
      "text/plain": [
       "<matplotlib.axes._subplots.AxesSubplot at 0x2a1ef7258e0>"
      ]
     },
     "execution_count": 34,
     "metadata": {},
     "output_type": "execute_result"
    },
    {
     "data": {
      "image/png": "[encoded data removed]",
      "text/plain": [
       "<Figure size 432x288 with 1 Axes>"
      ]
     },
     "metadata": {
      "needs_background": "light"
     },
     "output_type": "display_data"
    }
   ],
   "source": [
    "sns.distplot(dados_log.total)"
   ]
  },
  {
   "cell_type": "code",
   "execution_count": 35,
   "metadata": {},
   "outputs": [
    {
     "data": {
      "text/plain": [
       "<matplotlib.axes._subplots.AxesSubplot at 0x2a1ef99ec10>"
      ]
     },
     "execution_count": 35,
     "metadata": {},
     "output_type": "execute_result"
    },
    {
     "data": {
      "image/png": "[encoded data removed]",
      "text/plain": [
       "<Figure size 432x288 with 1 Axes>"
      ]
     },
     "metadata": {
      "needs_background": "light"
     },
     "output_type": "display_data"
    }
   ],
   "source": [
    "sns.distplot(dados_log.area)"
   ]
  },
  {
   "cell_type": "markdown",
   "metadata": {},
   "source": [
    "# Utilizando uma TreeRegresion"
   ]
  },
  {
   "cell_type": "code",
   "execution_count": 36,
   "metadata": {
    "scrolled": true
   },
   "outputs": [
    {
     "data": {
      "text/plain": [
       "0.6019276881149795"
      ]
     },
     "execution_count": 36,
     "metadata": {},
     "output_type": "execute_result"
    },
    {
     "data": {
      "image/png": "[encoded data removed]",
      "text/plain": [
       "<Figure size 432x288 with 1 Axes>"
      ]
     },
     "metadata": {
      "needs_background": "light"
     },
     "output_type": "display_data"
    }
   ],
   "source": [
    "from sklearn.tree import DecisionTreeRegressor\n",
    "from sklearn.model_selection import train_test_split\n",
    "from sklearn.preprocessing import StandardScaler\n",
    "from sklearn.metrics import accuracy_score\n",
    "from sklearn.metrics import r2_score\n",
    "\n",
    "\n",
    "X = dados_log[['cidade','area', 'quartos', 'banheiros', 'estacionamento', 'andar','animal','mobiliado']]\n",
    "Y = dados_log[\"total\"]\n",
    "\n",
    "X_train, X_test, y_train, y_test = train_test_split(X,Y)\n",
    "\n",
    "scaler = StandardScaler()\n",
    "scaler.fit(X_train)\n",
    "\n",
    "X_train_scaled = scaler.transform(X_train)\n",
    "X_test_scaled = scaler.transform(X_test)\n",
    "\n",
    "model = DecisionTreeRegressor()\n",
    "model.fit(X_train_scaled, y_train)\n",
    "\n",
    "predicts = model.predict(X_test_scaled)\n",
    "\n",
    "dataset_results = pd.DataFrame()\n",
    "dataset_results['predict'] = predicts\n",
    "dataset_results['y_test'] = y_test.values\n",
    "\n",
    "ax = sns.scatterplot(x = 'predict', y = 'y_test', data=dataset_results)\n",
    "ax.set_title('Predição X Valor Real em Log')\n",
    "r2_score(y_test,predicts)"
   ]
  },
  {
   "cell_type": "code",
   "execution_count": 37,
   "metadata": {},
   "outputs": [
    {
     "name": "stdout",
     "output_type": "stream",
     "text": [
      "O coeficiente do quadrado médio é:  0.2571228209500958\n"
     ]
    }
   ],
   "source": [
    "print('O coeficiente do quadrado médio é: ', erro_quadrado_medio(predicts, y_test))"
   ]
  },
  {
   "cell_type": "code",
   "execution_count": 38,
   "metadata": {},
   "outputs": [
    {
     "data": {
      "text/html": [
       "<div>\n",
       "<style scoped>\n",
       "    .dataframe tbody tr th:only-of-type {\n",
       "        vertical-align: middle;\n",
       "    }\n",
       "\n",
       "    .dataframe tbody tr th {\n",
       "        vertical-align: top;\n",
       "    }\n",
       "\n",
       "    .dataframe thead th {\n",
       "        text-align: right;\n",
       "    }\n",
       "</style>\n",
       "<table border=\"1\" class=\"dataframe\">\n",
       "  <thead>\n",
       "    <tr style=\"text-align: right;\">\n",
       "      <th></th>\n",
       "      <th>predict</th>\n",
       "      <th>y_test</th>\n",
       "    </tr>\n",
       "  </thead>\n",
       "  <tbody>\n",
       "    <tr>\n",
       "      <th>0</th>\n",
       "      <td>8.203578</td>\n",
       "      <td>8.867568</td>\n",
       "    </tr>\n",
       "    <tr>\n",
       "      <th>1</th>\n",
       "      <td>9.910960</td>\n",
       "      <td>9.949416</td>\n",
       "    </tr>\n",
       "    <tr>\n",
       "      <th>2</th>\n",
       "      <td>8.204945</td>\n",
       "      <td>7.997327</td>\n",
       "    </tr>\n",
       "    <tr>\n",
       "      <th>3</th>\n",
       "      <td>8.283999</td>\n",
       "      <td>7.724447</td>\n",
       "    </tr>\n",
       "    <tr>\n",
       "      <th>4</th>\n",
       "      <td>6.804615</td>\n",
       "      <td>7.018402</td>\n",
       "    </tr>\n",
       "    <tr>\n",
       "      <th>5</th>\n",
       "      <td>8.447843</td>\n",
       "      <td>8.838262</td>\n",
       "    </tr>\n",
       "    <tr>\n",
       "      <th>6</th>\n",
       "      <td>7.882692</td>\n",
       "      <td>7.640604</td>\n",
       "    </tr>\n",
       "    <tr>\n",
       "      <th>7</th>\n",
       "      <td>7.156956</td>\n",
       "      <td>7.156956</td>\n",
       "    </tr>\n",
       "    <tr>\n",
       "      <th>8</th>\n",
       "      <td>7.811973</td>\n",
       "      <td>7.927685</td>\n",
       "    </tr>\n",
       "    <tr>\n",
       "      <th>9</th>\n",
       "      <td>8.956866</td>\n",
       "      <td>8.584665</td>\n",
       "    </tr>\n",
       "    <tr>\n",
       "      <th>10</th>\n",
       "      <td>8.417373</td>\n",
       "      <td>7.332369</td>\n",
       "    </tr>\n",
       "    <tr>\n",
       "      <th>11</th>\n",
       "      <td>8.698515</td>\n",
       "      <td>8.545975</td>\n",
       "    </tr>\n",
       "    <tr>\n",
       "      <th>12</th>\n",
       "      <td>7.324490</td>\n",
       "      <td>7.184629</td>\n",
       "    </tr>\n",
       "    <tr>\n",
       "      <th>13</th>\n",
       "      <td>9.322776</td>\n",
       "      <td>9.245708</td>\n",
       "    </tr>\n",
       "    <tr>\n",
       "      <th>14</th>\n",
       "      <td>7.160846</td>\n",
       "      <td>7.703008</td>\n",
       "    </tr>\n",
       "    <tr>\n",
       "      <th>15</th>\n",
       "      <td>7.863267</td>\n",
       "      <td>7.430114</td>\n",
       "    </tr>\n",
       "    <tr>\n",
       "      <th>16</th>\n",
       "      <td>7.307202</td>\n",
       "      <td>7.833996</td>\n",
       "    </tr>\n",
       "    <tr>\n",
       "      <th>17</th>\n",
       "      <td>9.671555</td>\n",
       "      <td>9.092682</td>\n",
       "    </tr>\n",
       "    <tr>\n",
       "      <th>18</th>\n",
       "      <td>7.613261</td>\n",
       "      <td>7.643483</td>\n",
       "    </tr>\n",
       "    <tr>\n",
       "      <th>19</th>\n",
       "      <td>8.227910</td>\n",
       "      <td>8.144969</td>\n",
       "    </tr>\n",
       "  </tbody>\n",
       "</table>\n",
       "</div>"
      ],
      "text/plain": [
       "     predict    y_test\n",
       "0   8.203578  8.867568\n",
       "1   9.910960  9.949416\n",
       "2   8.204945  7.997327\n",
       "3   8.283999  7.724447\n",
       "4   6.804615  7.018402\n",
       "5   8.447843  8.838262\n",
       "6   7.882692  7.640604\n",
       "7   7.156956  7.156956\n",
       "8   7.811973  7.927685\n",
       "9   8.956866  8.584665\n",
       "10  8.417373  7.332369\n",
       "11  8.698515  8.545975\n",
       "12  7.324490  7.184629\n",
       "13  9.322776  9.245708\n",
       "14  7.160846  7.703008\n",
       "15  7.863267  7.430114\n",
       "16  7.307202  7.833996\n",
       "17  9.671555  9.092682\n",
       "18  7.613261  7.643483\n",
       "19  8.227910  8.144969"
      ]
     },
     "execution_count": 38,
     "metadata": {},
     "output_type": "execute_result"
    }
   ],
   "source": [
    "dataset_results.head(20)"
   ]
  },
  {
   "cell_type": "code",
   "execution_count": 39,
   "metadata": {},
   "outputs": [
    {
     "data": {
      "text/html": [
       "<div>\n",
       "<style scoped>\n",
       "    .dataframe tbody tr th:only-of-type {\n",
       "        vertical-align: middle;\n",
       "    }\n",
       "\n",
       "    .dataframe tbody tr th {\n",
       "        vertical-align: top;\n",
       "    }\n",
       "\n",
       "    .dataframe thead th {\n",
       "        text-align: right;\n",
       "    }\n",
       "</style>\n",
       "<table border=\"1\" class=\"dataframe\">\n",
       "  <thead>\n",
       "    <tr style=\"text-align: right;\">\n",
       "      <th></th>\n",
       "      <th>predict</th>\n",
       "      <th>y_test</th>\n",
       "      <th>erro</th>\n",
       "    </tr>\n",
       "  </thead>\n",
       "  <tbody>\n",
       "    <tr>\n",
       "      <th>0</th>\n",
       "      <td>3654.0</td>\n",
       "      <td>7098.0</td>\n",
       "      <td>3444.0</td>\n",
       "    </tr>\n",
       "    <tr>\n",
       "      <th>1</th>\n",
       "      <td>20150.0</td>\n",
       "      <td>20940.0</td>\n",
       "      <td>790.0</td>\n",
       "    </tr>\n",
       "    <tr>\n",
       "      <th>2</th>\n",
       "      <td>3659.0</td>\n",
       "      <td>2973.0</td>\n",
       "      <td>-686.0</td>\n",
       "    </tr>\n",
       "    <tr>\n",
       "      <th>3</th>\n",
       "      <td>3960.0</td>\n",
       "      <td>2263.0</td>\n",
       "      <td>-1697.0</td>\n",
       "    </tr>\n",
       "    <tr>\n",
       "      <th>4</th>\n",
       "      <td>902.0</td>\n",
       "      <td>1117.0</td>\n",
       "      <td>215.0</td>\n",
       "    </tr>\n",
       "    <tr>\n",
       "      <th>...</th>\n",
       "      <td>...</td>\n",
       "      <td>...</td>\n",
       "      <td>...</td>\n",
       "    </tr>\n",
       "    <tr>\n",
       "      <th>2665</th>\n",
       "      <td>7806.0</td>\n",
       "      <td>6511.0</td>\n",
       "      <td>-1295.0</td>\n",
       "    </tr>\n",
       "    <tr>\n",
       "      <th>2666</th>\n",
       "      <td>1835.0</td>\n",
       "      <td>1835.0</td>\n",
       "      <td>0.0</td>\n",
       "    </tr>\n",
       "    <tr>\n",
       "      <th>2667</th>\n",
       "      <td>10170.0</td>\n",
       "      <td>8155.0</td>\n",
       "      <td>-2015.0</td>\n",
       "    </tr>\n",
       "    <tr>\n",
       "      <th>2668</th>\n",
       "      <td>1998.0</td>\n",
       "      <td>2854.0</td>\n",
       "      <td>856.0</td>\n",
       "    </tr>\n",
       "    <tr>\n",
       "      <th>2669</th>\n",
       "      <td>7223.0</td>\n",
       "      <td>18080.0</td>\n",
       "      <td>10857.0</td>\n",
       "    </tr>\n",
       "  </tbody>\n",
       "</table>\n",
       "<p>2670 rows × 3 columns</p>\n",
       "</div>"
      ],
      "text/plain": [
       "      predict   y_test     erro\n",
       "0      3654.0   7098.0   3444.0\n",
       "1     20150.0  20940.0    790.0\n",
       "2      3659.0   2973.0   -686.0\n",
       "3      3960.0   2263.0  -1697.0\n",
       "4       902.0   1117.0    215.0\n",
       "...       ...      ...      ...\n",
       "2665   7806.0   6511.0  -1295.0\n",
       "2666   1835.0   1835.0      0.0\n",
       "2667  10170.0   8155.0  -2015.0\n",
       "2668   1998.0   2854.0    856.0\n",
       "2669   7223.0  18080.0  10857.0\n",
       "\n",
       "[2670 rows x 3 columns]"
      ]
     },
     "execution_count": 39,
     "metadata": {},
     "output_type": "execute_result"
    }
   ],
   "source": [
    "dataset_results.predict = np.exp(dataset_results.predict)\n",
    "dataset_results.y_test = np.exp(dataset_results.y_test)\n",
    "dataset_results['erro'] = dataset_results.y_test - dataset_results.predict\n",
    "dataset_results"
   ]
  },
  {
   "cell_type": "code",
   "execution_count": 40,
   "metadata": {},
   "outputs": [
    {
     "data": {
      "text/plain": [
       "Text(0.5, 1.0, 'Predição X valor real (R$)')"
      ]
     },
     "execution_count": 40,
     "metadata": {},
     "output_type": "execute_result"
    },
    {
     "data": {
      "image/png": "[encoded data removed]",
      "text/plain": [
       "<Figure size 432x288 with 1 Axes>"
      ]
     },
     "metadata": {
      "needs_background": "light"
     },
     "output_type": "display_data"
    }
   ],
   "source": [
    "ax = sns.scatterplot(x = 'predict', y = 'y_test', data = dataset_results)\n",
    "ax.set_title('Predição X valor real (R$)')"
   ]
  },
  {
   "cell_type": "markdown",
   "metadata": {},
   "source": [
    "## Utilizando outros modelos "
   ]
  },
  {
   "cell_type": "markdown",
   "metadata": {},
   "source": [
    "# Linear Regression"
   ]
  },
  {
   "cell_type": "code",
   "execution_count": 41,
   "metadata": {},
   "outputs": [
    {
     "data": {
      "text/html": [
       "<div>\n",
       "<style scoped>\n",
       "    .dataframe tbody tr th:only-of-type {\n",
       "        vertical-align: middle;\n",
       "    }\n",
       "\n",
       "    .dataframe tbody tr th {\n",
       "        vertical-align: top;\n",
       "    }\n",
       "\n",
       "    .dataframe thead th {\n",
       "        text-align: right;\n",
       "    }\n",
       "</style>\n",
       "<table border=\"1\" class=\"dataframe\">\n",
       "  <thead>\n",
       "    <tr style=\"text-align: right;\">\n",
       "      <th></th>\n",
       "      <th>area</th>\n",
       "      <th>quartos</th>\n",
       "      <th>banheiros</th>\n",
       "      <th>estacionamento</th>\n",
       "      <th>andar</th>\n",
       "      <th>cidade</th>\n",
       "      <th>animal</th>\n",
       "      <th>mobiliado</th>\n",
       "      <th>total</th>\n",
       "    </tr>\n",
       "  </thead>\n",
       "  <tbody>\n",
       "    <tr>\n",
       "      <th>area</th>\n",
       "      <td>1.000000</td>\n",
       "      <td>0.814113</td>\n",
       "      <td>0.819591</td>\n",
       "      <td>0.695963</td>\n",
       "      <td>-0.183472</td>\n",
       "      <td>-0.105543</td>\n",
       "      <td>0.180505</td>\n",
       "      <td>-0.038756</td>\n",
       "      <td>0.741746</td>\n",
       "    </tr>\n",
       "    <tr>\n",
       "      <th>quartos</th>\n",
       "      <td>0.814113</td>\n",
       "      <td>1.000000</td>\n",
       "      <td>0.732466</td>\n",
       "      <td>0.612584</td>\n",
       "      <td>-0.129316</td>\n",
       "      <td>-0.048364</td>\n",
       "      <td>0.195029</td>\n",
       "      <td>-0.103408</td>\n",
       "      <td>0.588153</td>\n",
       "    </tr>\n",
       "    <tr>\n",
       "      <th>banheiros</th>\n",
       "      <td>0.819591</td>\n",
       "      <td>0.732466</td>\n",
       "      <td>1.000000</td>\n",
       "      <td>0.686262</td>\n",
       "      <td>-0.070112</td>\n",
       "      <td>-0.165224</td>\n",
       "      <td>0.131616</td>\n",
       "      <td>0.012221</td>\n",
       "      <td>0.738088</td>\n",
       "    </tr>\n",
       "    <tr>\n",
       "      <th>estacionamento</th>\n",
       "      <td>0.695963</td>\n",
       "      <td>0.612584</td>\n",
       "      <td>0.686262</td>\n",
       "      <td>1.000000</td>\n",
       "      <td>-0.056449</td>\n",
       "      <td>-0.132920</td>\n",
       "      <td>0.135163</td>\n",
       "      <td>0.004695</td>\n",
       "      <td>0.628471</td>\n",
       "    </tr>\n",
       "    <tr>\n",
       "      <th>andar</th>\n",
       "      <td>-0.183472</td>\n",
       "      <td>-0.129316</td>\n",
       "      <td>-0.070112</td>\n",
       "      <td>-0.056449</td>\n",
       "      <td>1.000000</td>\n",
       "      <td>-0.057307</td>\n",
       "      <td>-0.026629</td>\n",
       "      <td>0.142384</td>\n",
       "      <td>0.141291</td>\n",
       "    </tr>\n",
       "    <tr>\n",
       "      <th>cidade</th>\n",
       "      <td>-0.105543</td>\n",
       "      <td>-0.048364</td>\n",
       "      <td>-0.165224</td>\n",
       "      <td>-0.132920</td>\n",
       "      <td>-0.057307</td>\n",
       "      <td>1.000000</td>\n",
       "      <td>0.047555</td>\n",
       "      <td>-0.082786</td>\n",
       "      <td>-0.331974</td>\n",
       "    </tr>\n",
       "    <tr>\n",
       "      <th>animal</th>\n",
       "      <td>0.180505</td>\n",
       "      <td>0.195029</td>\n",
       "      <td>0.131616</td>\n",
       "      <td>0.135163</td>\n",
       "      <td>-0.026629</td>\n",
       "      <td>0.047555</td>\n",
       "      <td>1.000000</td>\n",
       "      <td>-0.088469</td>\n",
       "      <td>0.092221</td>\n",
       "    </tr>\n",
       "    <tr>\n",
       "      <th>mobiliado</th>\n",
       "      <td>-0.038756</td>\n",
       "      <td>-0.103408</td>\n",
       "      <td>0.012221</td>\n",
       "      <td>0.004695</td>\n",
       "      <td>0.142384</td>\n",
       "      <td>-0.082786</td>\n",
       "      <td>-0.088469</td>\n",
       "      <td>1.000000</td>\n",
       "      <td>0.210764</td>\n",
       "    </tr>\n",
       "    <tr>\n",
       "      <th>total</th>\n",
       "      <td>0.741746</td>\n",
       "      <td>0.588153</td>\n",
       "      <td>0.738088</td>\n",
       "      <td>0.628471</td>\n",
       "      <td>0.141291</td>\n",
       "      <td>-0.331974</td>\n",
       "      <td>0.092221</td>\n",
       "      <td>0.210764</td>\n",
       "      <td>1.000000</td>\n",
       "    </tr>\n",
       "  </tbody>\n",
       "</table>\n",
       "</div>"
      ],
      "text/plain": [
       "                    area   quartos  banheiros  estacionamento     andar  \\\n",
       "area            1.000000  0.814113   0.819591        0.695963 -0.183472   \n",
       "quartos         0.814113  1.000000   0.732466        0.612584 -0.129316   \n",
       "banheiros       0.819591  0.732466   1.000000        0.686262 -0.070112   \n",
       "estacionamento  0.695963  0.612584   0.686262        1.000000 -0.056449   \n",
       "andar          -0.183472 -0.129316  -0.070112       -0.056449  1.000000   \n",
       "cidade         -0.105543 -0.048364  -0.165224       -0.132920 -0.057307   \n",
       "animal          0.180505  0.195029   0.131616        0.135163 -0.026629   \n",
       "mobiliado      -0.038756 -0.103408   0.012221        0.004695  0.142384   \n",
       "total           0.741746  0.588153   0.738088        0.628471  0.141291   \n",
       "\n",
       "                  cidade    animal  mobiliado     total  \n",
       "area           -0.105543  0.180505  -0.038756  0.741746  \n",
       "quartos        -0.048364  0.195029  -0.103408  0.588153  \n",
       "banheiros      -0.165224  0.131616   0.012221  0.738088  \n",
       "estacionamento -0.132920  0.135163   0.004695  0.628471  \n",
       "andar          -0.057307 -0.026629   0.142384  0.141291  \n",
       "cidade          1.000000  0.047555  -0.082786 -0.331974  \n",
       "animal          0.047555  1.000000  -0.088469  0.092221  \n",
       "mobiliado      -0.082786 -0.088469   1.000000  0.210764  \n",
       "total          -0.331974  0.092221   0.210764  1.000000  "
      ]
     },
     "execution_count": 41,
     "metadata": {},
     "output_type": "execute_result"
    }
   ],
   "source": [
    "dados_log.corr()"
   ]
  },
  {
   "cell_type": "code",
   "execution_count": 42,
   "metadata": {},
   "outputs": [
    {
     "data": {
      "text/plain": [
       "<matplotlib.axes._subplots.AxesSubplot at 0x2a1f0fde2b0>"
      ]
     },
     "execution_count": 42,
     "metadata": {},
     "output_type": "execute_result"
    },
    {
     "data": {
      "image/png": "[encoded data removed]",
      "text/plain": [
       "<Figure size 432x288 with 2 Axes>"
      ]
     },
     "metadata": {
      "needs_background": "light"
     },
     "output_type": "display_data"
    }
   ],
   "source": [
    "corr = dados_log.corr()\n",
    "sns.heatmap(corr)"
   ]
  },
  {
   "cell_type": "markdown",
   "metadata": {},
   "source": [
    "## LinearRegression"
   ]
  },
  {
   "cell_type": "code",
   "execution_count": 43,
   "metadata": {},
   "outputs": [
    {
     "data": {
      "text/plain": [
       "0.7489842485178694"
      ]
     },
     "execution_count": 43,
     "metadata": {},
     "output_type": "execute_result"
    }
   ],
   "source": [
    "from sklearn.tree import DecisionTreeRegressor\n",
    "from sklearn.model_selection import train_test_split\n",
    "from sklearn.preprocessing import StandardScaler\n",
    "from sklearn.metrics import accuracy_score\n",
    "from sklearn.linear_model import LinearRegression\n",
    "\n",
    "\n",
    "X = dados_log[['cidade','area', 'quartos', 'banheiros', 'estacionamento', 'andar','animal','mobiliado']]\n",
    "Y = dados_log[\"total\"]\n",
    "\n",
    "X_train, X_test, y_train, y_test = train_test_split(X,Y)\n",
    "\n",
    "scaler = StandardScaler()\n",
    "scaler.fit(X_train)\n",
    "\n",
    "X_train_scaled = scaler.transform(X_train)\n",
    "X_test_scaled = scaler.transform(X_test)\n",
    "\n",
    "model = LinearRegression()\n",
    "model.fit(X_train_scaled, y_train)\n",
    "\n",
    "predicts = model.predict(X_test_scaled)\n",
    "\n",
    "dataset_results = pd.DataFrame()\n",
    "dataset_results['predict'] = predicts\n",
    "dataset_results['y_test'] = y_test.values\n",
    "dataset_results['erro'] = dataset_results.y_test - dataset_results.predict\n",
    "\n",
    "r2_score(y_test,predicts)"
   ]
  },
  {
   "cell_type": "code",
   "execution_count": 44,
   "metadata": {},
   "outputs": [
    {
     "name": "stdout",
     "output_type": "stream",
     "text": [
      "O coeficiente do quadrado médio é:  0.1540257095583635\n"
     ]
    }
   ],
   "source": [
    "print('O coeficiente do quadrado médio é: ', erro_quadrado_medio(predicts, y_test))"
   ]
  },
  {
   "cell_type": "markdown",
   "metadata": {},
   "source": [
    "## Ajeitando resultados pois estao em log E "
   ]
  },
  {
   "cell_type": "code",
   "execution_count": 45,
   "metadata": {},
   "outputs": [
    {
     "data": {
      "text/html": [
       "<div>\n",
       "<style scoped>\n",
       "    .dataframe tbody tr th:only-of-type {\n",
       "        vertical-align: middle;\n",
       "    }\n",
       "\n",
       "    .dataframe tbody tr th {\n",
       "        vertical-align: top;\n",
       "    }\n",
       "\n",
       "    .dataframe thead th {\n",
       "        text-align: right;\n",
       "    }\n",
       "</style>\n",
       "<table border=\"1\" class=\"dataframe\">\n",
       "  <thead>\n",
       "    <tr style=\"text-align: right;\">\n",
       "      <th></th>\n",
       "      <th>predict</th>\n",
       "      <th>y_test</th>\n",
       "      <th>erro</th>\n",
       "    </tr>\n",
       "  </thead>\n",
       "  <tbody>\n",
       "    <tr>\n",
       "      <th>0</th>\n",
       "      <td>9.259095</td>\n",
       "      <td>9.780755</td>\n",
       "      <td>0.521659</td>\n",
       "    </tr>\n",
       "    <tr>\n",
       "      <th>1</th>\n",
       "      <td>8.991009</td>\n",
       "      <td>9.591513</td>\n",
       "      <td>0.600504</td>\n",
       "    </tr>\n",
       "    <tr>\n",
       "      <th>2</th>\n",
       "      <td>8.674268</td>\n",
       "      <td>8.723231</td>\n",
       "      <td>0.048963</td>\n",
       "    </tr>\n",
       "    <tr>\n",
       "      <th>3</th>\n",
       "      <td>8.092268</td>\n",
       "      <td>8.184793</td>\n",
       "      <td>0.092524</td>\n",
       "    </tr>\n",
       "    <tr>\n",
       "      <th>4</th>\n",
       "      <td>9.156960</td>\n",
       "      <td>9.707473</td>\n",
       "      <td>0.550513</td>\n",
       "    </tr>\n",
       "    <tr>\n",
       "      <th>5</th>\n",
       "      <td>8.181075</td>\n",
       "      <td>8.261010</td>\n",
       "      <td>0.079935</td>\n",
       "    </tr>\n",
       "    <tr>\n",
       "      <th>6</th>\n",
       "      <td>7.643159</td>\n",
       "      <td>7.259820</td>\n",
       "      <td>-0.383340</td>\n",
       "    </tr>\n",
       "    <tr>\n",
       "      <th>7</th>\n",
       "      <td>8.601698</td>\n",
       "      <td>8.562931</td>\n",
       "      <td>-0.038767</td>\n",
       "    </tr>\n",
       "    <tr>\n",
       "      <th>8</th>\n",
       "      <td>7.753011</td>\n",
       "      <td>8.136226</td>\n",
       "      <td>0.383215</td>\n",
       "    </tr>\n",
       "    <tr>\n",
       "      <th>9</th>\n",
       "      <td>8.082458</td>\n",
       "      <td>7.641084</td>\n",
       "      <td>-0.441373</td>\n",
       "    </tr>\n",
       "  </tbody>\n",
       "</table>\n",
       "</div>"
      ],
      "text/plain": [
       "    predict    y_test      erro\n",
       "0  9.259095  9.780755  0.521659\n",
       "1  8.991009  9.591513  0.600504\n",
       "2  8.674268  8.723231  0.048963\n",
       "3  8.092268  8.184793  0.092524\n",
       "4  9.156960  9.707473  0.550513\n",
       "5  8.181075  8.261010  0.079935\n",
       "6  7.643159  7.259820 -0.383340\n",
       "7  8.601698  8.562931 -0.038767\n",
       "8  7.753011  8.136226  0.383215\n",
       "9  8.082458  7.641084 -0.441373"
      ]
     },
     "execution_count": 45,
     "metadata": {},
     "output_type": "execute_result"
    }
   ],
   "source": [
    "dataset_results.head(10)"
   ]
  },
  {
   "cell_type": "code",
   "execution_count": 46,
   "metadata": {},
   "outputs": [
    {
     "data": {
      "text/html": [
       "<div>\n",
       "<style scoped>\n",
       "    .dataframe tbody tr th:only-of-type {\n",
       "        vertical-align: middle;\n",
       "    }\n",
       "\n",
       "    .dataframe tbody tr th {\n",
       "        vertical-align: top;\n",
       "    }\n",
       "\n",
       "    .dataframe thead th {\n",
       "        text-align: right;\n",
       "    }\n",
       "</style>\n",
       "<table border=\"1\" class=\"dataframe\">\n",
       "  <thead>\n",
       "    <tr style=\"text-align: right;\">\n",
       "      <th></th>\n",
       "      <th>predict</th>\n",
       "      <th>y_test</th>\n",
       "      <th>erro</th>\n",
       "    </tr>\n",
       "  </thead>\n",
       "  <tbody>\n",
       "    <tr>\n",
       "      <th>0</th>\n",
       "      <td>10499.631329</td>\n",
       "      <td>17690.0</td>\n",
       "      <td>7190.368671</td>\n",
       "    </tr>\n",
       "    <tr>\n",
       "      <th>1</th>\n",
       "      <td>8030.553253</td>\n",
       "      <td>14640.0</td>\n",
       "      <td>6609.446747</td>\n",
       "    </tr>\n",
       "    <tr>\n",
       "      <th>2</th>\n",
       "      <td>5850.418191</td>\n",
       "      <td>6144.0</td>\n",
       "      <td>293.581809</td>\n",
       "    </tr>\n",
       "    <tr>\n",
       "      <th>3</th>\n",
       "      <td>3269.094483</td>\n",
       "      <td>3586.0</td>\n",
       "      <td>316.905517</td>\n",
       "    </tr>\n",
       "    <tr>\n",
       "      <th>4</th>\n",
       "      <td>9480.192714</td>\n",
       "      <td>16440.0</td>\n",
       "      <td>6959.807286</td>\n",
       "    </tr>\n",
       "    <tr>\n",
       "      <th>...</th>\n",
       "      <td>...</td>\n",
       "      <td>...</td>\n",
       "      <td>...</td>\n",
       "    </tr>\n",
       "    <tr>\n",
       "      <th>2665</th>\n",
       "      <td>2360.134763</td>\n",
       "      <td>1621.0</td>\n",
       "      <td>-739.134763</td>\n",
       "    </tr>\n",
       "    <tr>\n",
       "      <th>2666</th>\n",
       "      <td>5906.667336</td>\n",
       "      <td>5773.0</td>\n",
       "      <td>-133.667336</td>\n",
       "    </tr>\n",
       "    <tr>\n",
       "      <th>2667</th>\n",
       "      <td>2493.514321</td>\n",
       "      <td>3037.0</td>\n",
       "      <td>543.485679</td>\n",
       "    </tr>\n",
       "    <tr>\n",
       "      <th>2668</th>\n",
       "      <td>2850.896925</td>\n",
       "      <td>3002.0</td>\n",
       "      <td>151.103075</td>\n",
       "    </tr>\n",
       "    <tr>\n",
       "      <th>2669</th>\n",
       "      <td>4123.881232</td>\n",
       "      <td>4460.0</td>\n",
       "      <td>336.118768</td>\n",
       "    </tr>\n",
       "  </tbody>\n",
       "</table>\n",
       "<p>2670 rows × 3 columns</p>\n",
       "</div>"
      ],
      "text/plain": [
       "           predict   y_test         erro\n",
       "0     10499.631329  17690.0  7190.368671\n",
       "1      8030.553253  14640.0  6609.446747\n",
       "2      5850.418191   6144.0   293.581809\n",
       "3      3269.094483   3586.0   316.905517\n",
       "4      9480.192714  16440.0  6959.807286\n",
       "...            ...      ...          ...\n",
       "2665   2360.134763   1621.0  -739.134763\n",
       "2666   5906.667336   5773.0  -133.667336\n",
       "2667   2493.514321   3037.0   543.485679\n",
       "2668   2850.896925   3002.0   151.103075\n",
       "2669   4123.881232   4460.0   336.118768\n",
       "\n",
       "[2670 rows x 3 columns]"
      ]
     },
     "execution_count": 46,
     "metadata": {},
     "output_type": "execute_result"
    }
   ],
   "source": [
    "\n",
    "dataset_results.predict = np.exp(dataset_results.predict)\n",
    "dataset_results.y_test = np.exp(dataset_results.y_test)\n",
    "dataset_results['erro'] = dataset_results.y_test - dataset_results.predict\n",
    "dataset_results"
   ]
  },
  {
   "cell_type": "code",
   "execution_count": 51,
   "metadata": {},
   "outputs": [
    {
     "data": {
      "image/png": "[encoded data removed]",
      "text/plain": [
       "<Figure size 432x288 with 1 Axes>"
      ]
     },
     "metadata": {
      "needs_background": "light"
     },
     "output_type": "display_data"
    }
   ],
   "source": [
    "\n",
    "ax = sns.scatterplot(x = 'predict', y = 'y_test', data = dataset_results, )\n",
    "ax.set_title('Predictions X Real - (R$)')\n",
    "ax.set_xlabel('Predictions')\n",
    "ax.set_ylabel('Real')\n",
    "ax =ax"
   ]
  },
  {
   "cell_type": "code",
   "execution_count": null,
   "metadata": {},
   "outputs": [],
   "source": []
  }
 ],
 "metadata": {
  "kernelspec": {
   "display_name": "Python 3",
   "language": "python",
   "name": "python3"
  },
  "language_info": {
   "codemirror_mode": {
    "name": "ipython",
    "version": 3
   },
   "file_extension": ".py",
   "mimetype": "text/x-python",
   "name": "python",
   "nbconvert_exporter": "python",
   "pygments_lexer": "ipython3",
   "version": "3.8.3"
  }
 },
 "nbformat": 4,
 "nbformat_minor": 4
}
